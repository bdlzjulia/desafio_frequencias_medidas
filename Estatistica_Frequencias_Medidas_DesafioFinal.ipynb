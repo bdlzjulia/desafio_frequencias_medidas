{
  "nbformat": 4,
  "nbformat_minor": 0,
  "metadata": {
    "colab": {
      "provenance": [],
      "authorship_tag": "ABX9TyP8NYG/s9CZdMPmi8L4XqJW"
    },
    "kernelspec": {
      "name": "python3",
      "display_name": "Python 3"
    },
    "language_info": {
      "name": "python"
    }
  },
  "cells": [
    {
      "cell_type": "markdown",
      "source": [
        "# Estatística Frequências e Medidas - Desafio Final\n",
        "\n",
        "\n",
        "Você é uma pesquisadora de um cursinho para estudantes que querem\n",
        "ingressar na universidade em 2025. Seu objetivo é retirar informações da\n",
        "base de dados do enem do ano anterior para alinhar melhor as estratégias do\n",
        "cursinho para cada estudante.\n",
        "O dado possui 6 colunas, 5 delas representam as disciplinas do ENEM e uma o\n",
        "gênero das pessoas que fizeram a prova. No dado existe a representação de\n",
        "1000 pessoas, sendo cada uma delas uma linha.\n",
        "\n",
        "1. Qual das disciplinas tem a maior `amplitude` de nota?\n",
        "\n",
        "\n",
        "2. Qual é a `média e a mediana` para cada uma das disciplinas? (Lembre-se\n",
        "de remover todos os valores nulos quando considerar a mediana)\n",
        "\n",
        "\n",
        "3. Considerando o curso de Ciência da Computação da UFPE, onde o peso\n",
        "cada uma das disciplinas ponderado:\n",
        "\n",
        "  a. Redação - 2\n",
        "\n",
        "  b. Matemática e suas Tecnologias - 4\n",
        "  \n",
        "  c. Linguagens, Códigos e suas Tecnologias - 2\n",
        "\n",
        "  d. Ciências Humanas e suas Tecnologias - 1\n",
        "\n",
        "  e. Ciências da Natureza e suas Tecnologias - 1\n",
        "\n",
        "- Qual o `desvio padrão e média` das notas dos 500 estudantes mais bem\n",
        "colocados considerando esses pesos?\n",
        "\n",
        "4. Se todos esses estudantes aplicassem para ciência da computação e\n",
        "existem apenas 40 vagas, qual seria a `variância e média` da nota dos\n",
        "estudantes que entraram no curso de ciência da computação?\n",
        "\n",
        "\n",
        "5. Qual o valor do teto do `terceiro quartil` para as disciplinas de\n",
        "matemática e linguagens?\n",
        "\n",
        "\n",
        "6. Faça o `histograma` de Redação e Linguagens, de 20 em 20 pontos.\n",
        "Podemos dizer que são histogramas simétricos, justifique e classifique\n",
        "se não assimétricas?\n",
        "\n",
        "\n",
        "7. Agora coloque um `range` fixo de 0 até 1000, você ainda tem a mesma\n",
        "opinião quanto a simetria? `[plt.hist(dado, bins=_, range=[0, 1000])`\n",
        "\n",
        "\n",
        "8. Faça um `boxplot do quartil` de todas as disciplinas de ciências da\n",
        "natureza e redação. É possível enxergar `outliers`? Utilize o `método IQR.`\n",
        "\n",
        "\n",
        "9. Remova todos os `outliers` e verifique se eles são passíveis de alterar a\n",
        "`média` nacional significativamente? (considere significativamente um\n",
        "valor acima de 5%)\n",
        "\n",
        "\n",
        "10. Considerando valores nulos, tente encontrar qual seria a melhor `medida\n",
        "de tendência` que pode substituir as notas nulas. `Média, moda ou\n",
        "mediana?` Substitua o valor por todos os três e diga qual delas altera\n",
        "menos a `média geral` e o `desvio padrão.`"
      ],
      "metadata": {
        "id": "l3zEoJIryS5v"
      }
    },
    {
      "cell_type": "code",
      "execution_count": null,
      "metadata": {
        "id": "Lz6qHmrLwFAB"
      },
      "outputs": [],
      "source": [
        "import pandas as pd\n",
        "import numpy as np\n",
        "import seaborn as sns\n",
        "import matplotlib.pyplot as plt"
      ]
    },
    {
      "cell_type": "code",
      "source": [
        "# Carregando dataframe\n",
        "\n",
        "df = pd.read_json(\"enem_2023.json\")\n",
        "df.head(10)"
      ],
      "metadata": {
        "colab": {
          "base_uri": "https://localhost:8080/",
          "height": 363
        },
        "id": "IJL9Q51R2VL0",
        "outputId": "032f8c43-b17f-4338-a342-9e0b471ce7b3"
      },
      "execution_count": null,
      "outputs": [
        {
          "output_type": "execute_result",
          "data": {
            "text/plain": [
              "   Linguagens  Ciências humanas  Ciências da natureza  Matemática     Redação  \\\n",
              "0  585.669300        686.512178            390.482473  452.281333  546.371706   \n",
              "1  359.384608        642.084134                   NaN  412.205207  741.825256   \n",
              "2  622.732384        495.510719            443.183580  669.683401  684.515750   \n",
              "3  350.164605        602.041588            413.979810  676.608952  671.237114   \n",
              "4  384.093657        489.249140            609.758123  520.426698  744.375048   \n",
              "5  616.043360        502.007005            497.777935  615.902547  507.365147   \n",
              "6  511.897593        479.197660            469.023899  441.139103  541.979136   \n",
              "7  377.439818        663.489624            556.239031  517.215575  635.424649   \n",
              "8  597.462934               NaN            483.223740  509.043317  499.676936   \n",
              "9  536.571398        594.007869                   NaN  595.562778  270.839965   \n",
              "\n",
              "     Sexo  \n",
              "0   Homem  \n",
              "1  Mulher  \n",
              "2   Homem  \n",
              "3   Homem  \n",
              "4   Homem  \n",
              "5   Homem  \n",
              "6  Mulher  \n",
              "7  Mulher  \n",
              "8  Mulher  \n",
              "9  Mulher  "
            ],
            "text/html": [
              "\n",
              "  <div id=\"df-b3fee67a-75e3-4bbf-b62f-a2edb337104c\" class=\"colab-df-container\">\n",
              "    <div>\n",
              "<style scoped>\n",
              "    .dataframe tbody tr th:only-of-type {\n",
              "        vertical-align: middle;\n",
              "    }\n",
              "\n",
              "    .dataframe tbody tr th {\n",
              "        vertical-align: top;\n",
              "    }\n",
              "\n",
              "    .dataframe thead th {\n",
              "        text-align: right;\n",
              "    }\n",
              "</style>\n",
              "<table border=\"1\" class=\"dataframe\">\n",
              "  <thead>\n",
              "    <tr style=\"text-align: right;\">\n",
              "      <th></th>\n",
              "      <th>Linguagens</th>\n",
              "      <th>Ciências humanas</th>\n",
              "      <th>Ciências da natureza</th>\n",
              "      <th>Matemática</th>\n",
              "      <th>Redação</th>\n",
              "      <th>Sexo</th>\n",
              "    </tr>\n",
              "  </thead>\n",
              "  <tbody>\n",
              "    <tr>\n",
              "      <th>0</th>\n",
              "      <td>585.669300</td>\n",
              "      <td>686.512178</td>\n",
              "      <td>390.482473</td>\n",
              "      <td>452.281333</td>\n",
              "      <td>546.371706</td>\n",
              "      <td>Homem</td>\n",
              "    </tr>\n",
              "    <tr>\n",
              "      <th>1</th>\n",
              "      <td>359.384608</td>\n",
              "      <td>642.084134</td>\n",
              "      <td>NaN</td>\n",
              "      <td>412.205207</td>\n",
              "      <td>741.825256</td>\n",
              "      <td>Mulher</td>\n",
              "    </tr>\n",
              "    <tr>\n",
              "      <th>2</th>\n",
              "      <td>622.732384</td>\n",
              "      <td>495.510719</td>\n",
              "      <td>443.183580</td>\n",
              "      <td>669.683401</td>\n",
              "      <td>684.515750</td>\n",
              "      <td>Homem</td>\n",
              "    </tr>\n",
              "    <tr>\n",
              "      <th>3</th>\n",
              "      <td>350.164605</td>\n",
              "      <td>602.041588</td>\n",
              "      <td>413.979810</td>\n",
              "      <td>676.608952</td>\n",
              "      <td>671.237114</td>\n",
              "      <td>Homem</td>\n",
              "    </tr>\n",
              "    <tr>\n",
              "      <th>4</th>\n",
              "      <td>384.093657</td>\n",
              "      <td>489.249140</td>\n",
              "      <td>609.758123</td>\n",
              "      <td>520.426698</td>\n",
              "      <td>744.375048</td>\n",
              "      <td>Homem</td>\n",
              "    </tr>\n",
              "    <tr>\n",
              "      <th>5</th>\n",
              "      <td>616.043360</td>\n",
              "      <td>502.007005</td>\n",
              "      <td>497.777935</td>\n",
              "      <td>615.902547</td>\n",
              "      <td>507.365147</td>\n",
              "      <td>Homem</td>\n",
              "    </tr>\n",
              "    <tr>\n",
              "      <th>6</th>\n",
              "      <td>511.897593</td>\n",
              "      <td>479.197660</td>\n",
              "      <td>469.023899</td>\n",
              "      <td>441.139103</td>\n",
              "      <td>541.979136</td>\n",
              "      <td>Mulher</td>\n",
              "    </tr>\n",
              "    <tr>\n",
              "      <th>7</th>\n",
              "      <td>377.439818</td>\n",
              "      <td>663.489624</td>\n",
              "      <td>556.239031</td>\n",
              "      <td>517.215575</td>\n",
              "      <td>635.424649</td>\n",
              "      <td>Mulher</td>\n",
              "    </tr>\n",
              "    <tr>\n",
              "      <th>8</th>\n",
              "      <td>597.462934</td>\n",
              "      <td>NaN</td>\n",
              "      <td>483.223740</td>\n",
              "      <td>509.043317</td>\n",
              "      <td>499.676936</td>\n",
              "      <td>Mulher</td>\n",
              "    </tr>\n",
              "    <tr>\n",
              "      <th>9</th>\n",
              "      <td>536.571398</td>\n",
              "      <td>594.007869</td>\n",
              "      <td>NaN</td>\n",
              "      <td>595.562778</td>\n",
              "      <td>270.839965</td>\n",
              "      <td>Mulher</td>\n",
              "    </tr>\n",
              "  </tbody>\n",
              "</table>\n",
              "</div>\n",
              "    <div class=\"colab-df-buttons\">\n",
              "\n",
              "  <div class=\"colab-df-container\">\n",
              "    <button class=\"colab-df-convert\" onclick=\"convertToInteractive('df-b3fee67a-75e3-4bbf-b62f-a2edb337104c')\"\n",
              "            title=\"Convert this dataframe to an interactive table.\"\n",
              "            style=\"display:none;\">\n",
              "\n",
              "  <svg xmlns=\"http://www.w3.org/2000/svg\" height=\"24px\" viewBox=\"0 -960 960 960\">\n",
              "    <path d=\"M120-120v-720h720v720H120Zm60-500h600v-160H180v160Zm220 220h160v-160H400v160Zm0 220h160v-160H400v160ZM180-400h160v-160H180v160Zm440 0h160v-160H620v160ZM180-180h160v-160H180v160Zm440 0h160v-160H620v160Z\"/>\n",
              "  </svg>\n",
              "    </button>\n",
              "\n",
              "  <style>\n",
              "    .colab-df-container {\n",
              "      display:flex;\n",
              "      gap: 12px;\n",
              "    }\n",
              "\n",
              "    .colab-df-convert {\n",
              "      background-color: #E8F0FE;\n",
              "      border: none;\n",
              "      border-radius: 50%;\n",
              "      cursor: pointer;\n",
              "      display: none;\n",
              "      fill: #1967D2;\n",
              "      height: 32px;\n",
              "      padding: 0 0 0 0;\n",
              "      width: 32px;\n",
              "    }\n",
              "\n",
              "    .colab-df-convert:hover {\n",
              "      background-color: #E2EBFA;\n",
              "      box-shadow: 0px 1px 2px rgba(60, 64, 67, 0.3), 0px 1px 3px 1px rgba(60, 64, 67, 0.15);\n",
              "      fill: #174EA6;\n",
              "    }\n",
              "\n",
              "    .colab-df-buttons div {\n",
              "      margin-bottom: 4px;\n",
              "    }\n",
              "\n",
              "    [theme=dark] .colab-df-convert {\n",
              "      background-color: #3B4455;\n",
              "      fill: #D2E3FC;\n",
              "    }\n",
              "\n",
              "    [theme=dark] .colab-df-convert:hover {\n",
              "      background-color: #434B5C;\n",
              "      box-shadow: 0px 1px 3px 1px rgba(0, 0, 0, 0.15);\n",
              "      filter: drop-shadow(0px 1px 2px rgba(0, 0, 0, 0.3));\n",
              "      fill: #FFFFFF;\n",
              "    }\n",
              "  </style>\n",
              "\n",
              "    <script>\n",
              "      const buttonEl =\n",
              "        document.querySelector('#df-b3fee67a-75e3-4bbf-b62f-a2edb337104c button.colab-df-convert');\n",
              "      buttonEl.style.display =\n",
              "        google.colab.kernel.accessAllowed ? 'block' : 'none';\n",
              "\n",
              "      async function convertToInteractive(key) {\n",
              "        const element = document.querySelector('#df-b3fee67a-75e3-4bbf-b62f-a2edb337104c');\n",
              "        const dataTable =\n",
              "          await google.colab.kernel.invokeFunction('convertToInteractive',\n",
              "                                                    [key], {});\n",
              "        if (!dataTable) return;\n",
              "\n",
              "        const docLinkHtml = 'Like what you see? Visit the ' +\n",
              "          '<a target=\"_blank\" href=https://colab.research.google.com/notebooks/data_table.ipynb>data table notebook</a>'\n",
              "          + ' to learn more about interactive tables.';\n",
              "        element.innerHTML = '';\n",
              "        dataTable['output_type'] = 'display_data';\n",
              "        await google.colab.output.renderOutput(dataTable, element);\n",
              "        const docLink = document.createElement('div');\n",
              "        docLink.innerHTML = docLinkHtml;\n",
              "        element.appendChild(docLink);\n",
              "      }\n",
              "    </script>\n",
              "  </div>\n",
              "\n",
              "\n",
              "<div id=\"df-646fa4e8-859b-444c-8c37-a91b9614ff51\">\n",
              "  <button class=\"colab-df-quickchart\" onclick=\"quickchart('df-646fa4e8-859b-444c-8c37-a91b9614ff51')\"\n",
              "            title=\"Suggest charts\"\n",
              "            style=\"display:none;\">\n",
              "\n",
              "<svg xmlns=\"http://www.w3.org/2000/svg\" height=\"24px\"viewBox=\"0 0 24 24\"\n",
              "     width=\"24px\">\n",
              "    <g>\n",
              "        <path d=\"M19 3H5c-1.1 0-2 .9-2 2v14c0 1.1.9 2 2 2h14c1.1 0 2-.9 2-2V5c0-1.1-.9-2-2-2zM9 17H7v-7h2v7zm4 0h-2V7h2v10zm4 0h-2v-4h2v4z\"/>\n",
              "    </g>\n",
              "</svg>\n",
              "  </button>\n",
              "\n",
              "<style>\n",
              "  .colab-df-quickchart {\n",
              "      --bg-color: #E8F0FE;\n",
              "      --fill-color: #1967D2;\n",
              "      --hover-bg-color: #E2EBFA;\n",
              "      --hover-fill-color: #174EA6;\n",
              "      --disabled-fill-color: #AAA;\n",
              "      --disabled-bg-color: #DDD;\n",
              "  }\n",
              "\n",
              "  [theme=dark] .colab-df-quickchart {\n",
              "      --bg-color: #3B4455;\n",
              "      --fill-color: #D2E3FC;\n",
              "      --hover-bg-color: #434B5C;\n",
              "      --hover-fill-color: #FFFFFF;\n",
              "      --disabled-bg-color: #3B4455;\n",
              "      --disabled-fill-color: #666;\n",
              "  }\n",
              "\n",
              "  .colab-df-quickchart {\n",
              "    background-color: var(--bg-color);\n",
              "    border: none;\n",
              "    border-radius: 50%;\n",
              "    cursor: pointer;\n",
              "    display: none;\n",
              "    fill: var(--fill-color);\n",
              "    height: 32px;\n",
              "    padding: 0;\n",
              "    width: 32px;\n",
              "  }\n",
              "\n",
              "  .colab-df-quickchart:hover {\n",
              "    background-color: var(--hover-bg-color);\n",
              "    box-shadow: 0 1px 2px rgba(60, 64, 67, 0.3), 0 1px 3px 1px rgba(60, 64, 67, 0.15);\n",
              "    fill: var(--button-hover-fill-color);\n",
              "  }\n",
              "\n",
              "  .colab-df-quickchart-complete:disabled,\n",
              "  .colab-df-quickchart-complete:disabled:hover {\n",
              "    background-color: var(--disabled-bg-color);\n",
              "    fill: var(--disabled-fill-color);\n",
              "    box-shadow: none;\n",
              "  }\n",
              "\n",
              "  .colab-df-spinner {\n",
              "    border: 2px solid var(--fill-color);\n",
              "    border-color: transparent;\n",
              "    border-bottom-color: var(--fill-color);\n",
              "    animation:\n",
              "      spin 1s steps(1) infinite;\n",
              "  }\n",
              "\n",
              "  @keyframes spin {\n",
              "    0% {\n",
              "      border-color: transparent;\n",
              "      border-bottom-color: var(--fill-color);\n",
              "      border-left-color: var(--fill-color);\n",
              "    }\n",
              "    20% {\n",
              "      border-color: transparent;\n",
              "      border-left-color: var(--fill-color);\n",
              "      border-top-color: var(--fill-color);\n",
              "    }\n",
              "    30% {\n",
              "      border-color: transparent;\n",
              "      border-left-color: var(--fill-color);\n",
              "      border-top-color: var(--fill-color);\n",
              "      border-right-color: var(--fill-color);\n",
              "    }\n",
              "    40% {\n",
              "      border-color: transparent;\n",
              "      border-right-color: var(--fill-color);\n",
              "      border-top-color: var(--fill-color);\n",
              "    }\n",
              "    60% {\n",
              "      border-color: transparent;\n",
              "      border-right-color: var(--fill-color);\n",
              "    }\n",
              "    80% {\n",
              "      border-color: transparent;\n",
              "      border-right-color: var(--fill-color);\n",
              "      border-bottom-color: var(--fill-color);\n",
              "    }\n",
              "    90% {\n",
              "      border-color: transparent;\n",
              "      border-bottom-color: var(--fill-color);\n",
              "    }\n",
              "  }\n",
              "</style>\n",
              "\n",
              "  <script>\n",
              "    async function quickchart(key) {\n",
              "      const quickchartButtonEl =\n",
              "        document.querySelector('#' + key + ' button');\n",
              "      quickchartButtonEl.disabled = true;  // To prevent multiple clicks.\n",
              "      quickchartButtonEl.classList.add('colab-df-spinner');\n",
              "      try {\n",
              "        const charts = await google.colab.kernel.invokeFunction(\n",
              "            'suggestCharts', [key], {});\n",
              "      } catch (error) {\n",
              "        console.error('Error during call to suggestCharts:', error);\n",
              "      }\n",
              "      quickchartButtonEl.classList.remove('colab-df-spinner');\n",
              "      quickchartButtonEl.classList.add('colab-df-quickchart-complete');\n",
              "    }\n",
              "    (() => {\n",
              "      let quickchartButtonEl =\n",
              "        document.querySelector('#df-646fa4e8-859b-444c-8c37-a91b9614ff51 button');\n",
              "      quickchartButtonEl.style.display =\n",
              "        google.colab.kernel.accessAllowed ? 'block' : 'none';\n",
              "    })();\n",
              "  </script>\n",
              "</div>\n",
              "\n",
              "    </div>\n",
              "  </div>\n"
            ],
            "application/vnd.google.colaboratory.intrinsic+json": {
              "type": "dataframe",
              "variable_name": "df",
              "summary": "{\n  \"name\": \"df\",\n  \"rows\": 1000,\n  \"fields\": [\n    {\n      \"column\": \"Linguagens\",\n      \"properties\": {\n        \"dtype\": \"number\",\n        \"std\": 84.00931315971195,\n        \"min\": 287.0,\n        \"max\": 804.4563171927,\n        \"num_unique_values\": 896,\n        \"samples\": [\n          638.5729576994,\n          458.5772735297,\n          469.6368972844\n        ],\n        \"semantic_type\": \"\",\n        \"description\": \"\"\n      }\n    },\n    {\n      \"column\": \"Ci\\u00eancias humanas\",\n      \"properties\": {\n        \"dtype\": \"number\",\n        \"std\": 77.81151916399475,\n        \"min\": 289.9,\n        \"max\": 763.9196954613,\n        \"num_unique_values\": 935,\n        \"samples\": [\n          552.953806862,\n          648.4281845758,\n          519.0714634707\n        ],\n        \"semantic_type\": \"\",\n        \"description\": \"\"\n      }\n    },\n    {\n      \"column\": \"Ci\\u00eancias da natureza\",\n      \"properties\": {\n        \"dtype\": \"number\",\n        \"std\": 78.76040369093829,\n        \"min\": 314.4,\n        \"max\": 802.0045683513,\n        \"num_unique_values\": 821,\n        \"samples\": [\n          472.110329659,\n          468.0927320977,\n          391.1238460543\n        ],\n        \"semantic_type\": \"\",\n        \"description\": \"\"\n      }\n    },\n    {\n      \"column\": \"Matem\\u00e1tica\",\n      \"properties\": {\n        \"dtype\": \"number\",\n        \"std\": 86.64810003261275,\n        \"min\": 319.8,\n        \"max\": 807.8779018921,\n        \"num_unique_values\": 918,\n        \"samples\": [\n          577.6921115123,\n          562.8560894807,\n          464.1971411718\n        ],\n        \"semantic_type\": \"\",\n        \"description\": \"\"\n      }\n    },\n    {\n      \"column\": \"Reda\\u00e7\\u00e3o\",\n      \"properties\": {\n        \"dtype\": \"number\",\n        \"std\": 115.33997244479161,\n        \"min\": 270.8399648605,\n        \"max\": 1000.0,\n        \"num_unique_values\": 860,\n        \"samples\": [\n          482.1791420587,\n          687.1614107203,\n          572.6498716449\n        ],\n        \"semantic_type\": \"\",\n        \"description\": \"\"\n      }\n    },\n    {\n      \"column\": \"Sexo\",\n      \"properties\": {\n        \"dtype\": \"category\",\n        \"num_unique_values\": 3,\n        \"samples\": [\n          \"Homem\",\n          \"Mulher\",\n          \"N\\u00e3o idenficado\"\n        ],\n        \"semantic_type\": \"\",\n        \"description\": \"\"\n      }\n    }\n  ]\n}"
            }
          },
          "metadata": {},
          "execution_count": 207
        }
      ]
    },
    {
      "cell_type": "markdown",
      "source": [
        "1. Qual das disciplinas tem a maior `amplitude` de nota?"
      ],
      "metadata": {
        "id": "yGwTbxvR50mX"
      }
    },
    {
      "cell_type": "code",
      "source": [
        "df[['Linguagens', 'Ciências humanas', 'Ciências da natureza', 'Matemática', 'Redação']].min() # nota mínima de cada disciplina"
      ],
      "metadata": {
        "id": "XC19x0df2osO"
      },
      "execution_count": null,
      "outputs": []
    },
    {
      "cell_type": "code",
      "source": [
        "df[['Linguagens', 'Ciências humanas', 'Ciências da natureza', 'Matemática', 'Redação']].max() # nota máxima de cada disciplina"
      ],
      "metadata": {
        "id": "WdTpDZzV4hLA"
      },
      "execution_count": null,
      "outputs": []
    },
    {
      "cell_type": "code",
      "source": [
        "df.describe()"
      ],
      "metadata": {
        "id": "qydCZsrm4nbb"
      },
      "execution_count": null,
      "outputs": []
    },
    {
      "cell_type": "code",
      "source": [
        "def describe_new(df): # Função que calcula a amplitude de cada disciplina\n",
        "    df1 = df.describe()\n",
        "    df1.loc[\"amplitude\"] = df1.loc['max'] - df1.loc['min']\n",
        "    return df1\n",
        "\n",
        "resposta = describe_new(df).loc['amplitude'].idxmax() # Procura a disciplina com a maior amplitude\n",
        "print('A disciplina com a maior AMPLITUDE é:', resposta)"
      ],
      "metadata": {
        "colab": {
          "base_uri": "https://localhost:8080/"
        },
        "id": "M_YZaDdn4sIb",
        "outputId": "e3c86ba4-54b2-471f-b368-5217e0fcffd8"
      },
      "execution_count": null,
      "outputs": [
        {
          "output_type": "stream",
          "name": "stdout",
          "text": [
            "A disciplina com a maior AMPLITUDE é: Redação\n"
          ]
        }
      ]
    },
    {
      "cell_type": "markdown",
      "source": [
        "2. Qual é a `média e a mediana` para cada uma das disciplinas? (Lembre-se\n",
        "de remover todos os valores nulos quando considerar a mediana)"
      ],
      "metadata": {
        "id": "BoXbcamy5noQ"
      }
    },
    {
      "cell_type": "code",
      "source": [
        "df.describe().loc['mean'].round(2) # Média de cada disciplina"
      ],
      "metadata": {
        "colab": {
          "base_uri": "https://localhost:8080/"
        },
        "id": "HmK3mSdS6SPl",
        "outputId": "1fa204b4-5543-4f18-979e-2a9155cb54ea"
      },
      "execution_count": null,
      "outputs": [
        {
          "output_type": "execute_result",
          "data": {
            "text/plain": [
              "Linguagens              514.52\n",
              "Ciências humanas        527.04\n",
              "Ciências da natureza    499.32\n",
              "Matemática              535.97\n",
              "Redação                 637.78\n",
              "Name: mean, dtype: float64"
            ]
          },
          "metadata": {},
          "execution_count": 212
        }
      ]
    },
    {
      "cell_type": "code",
      "source": [
        "# Mediana de cada disciplina sem os valores nulos\n",
        "df[['Linguagens', 'Ciências humanas', 'Ciências da natureza', 'Matemática', 'Redação']].median(skipna = True).round(2)"
      ],
      "metadata": {
        "colab": {
          "base_uri": "https://localhost:8080/"
        },
        "id": "5MWFAW626o9t",
        "outputId": "41622a19-a463-4d35-a22a-f32c8cfd8527"
      },
      "execution_count": null,
      "outputs": [
        {
          "output_type": "execute_result",
          "data": {
            "text/plain": [
              "Linguagens              515.05\n",
              "Ciências humanas        524.52\n",
              "Ciências da natureza    500.48\n",
              "Matemática              533.25\n",
              "Redação                 635.27\n",
              "dtype: float64"
            ]
          },
          "metadata": {},
          "execution_count": 213
        }
      ]
    },
    {
      "cell_type": "markdown",
      "source": [
        "3. Considerando o curso de Ciência da Computação da UFPE, onde o peso\n",
        "cada uma das disciplinas ponderado:\n",
        "\n",
        "  a. Redação - 2\n",
        "\n",
        "  b. Matemática e suas Tecnologias - 4\n",
        "  \n",
        "  c. Linguagens, Códigos e suas Tecnologias - 2\n",
        "\n",
        "  d. Ciências Humanas e suas Tecnologias - 1\n",
        "\n",
        "  e. Ciências da Natureza e suas Tecnologias - 1\n",
        "\n",
        "- Qual o `desvio padrão e média` das notas dos 500 estudantes mais bem\n",
        "colocados considerando esses pesos?"
      ],
      "metadata": {
        "id": "WPmELhEw9ZRd"
      }
    },
    {
      "cell_type": "code",
      "source": [
        "df_ufpe = df # Faz uma cópia do dataframe"
      ],
      "metadata": {
        "id": "BxzP35Gp7asz"
      },
      "execution_count": null,
      "outputs": []
    },
    {
      "cell_type": "code",
      "source": [
        "pesos = {'Redação': 2, 'Matemática': 4, 'Linguagens': 2, 'Ciências humanas': 1, 'Ciências da natureza': 1} # Definindo o peso de cada disciplina"
      ],
      "metadata": {
        "id": "jxiKFvNrGzbb"
      },
      "execution_count": null,
      "outputs": []
    },
    {
      "cell_type": "code",
      "source": [
        "# Cálculo da média ponderada\n",
        "df_ufpe['Média Ponderada'] = (\n",
        "    df_ufpe['Redação'] * pesos['Redação'] +\n",
        "    df_ufpe['Ciências humanas'] * pesos['Ciências humanas'] +\n",
        "    df_ufpe['Ciências da natureza'] * pesos['Ciências da natureza'] +\n",
        "    df_ufpe['Matemática'] * pesos['Matemática'] +\n",
        "    df_ufpe['Linguagens'] * pesos['Linguagens']\n",
        ") / 10\n",
        "\n",
        "df_ufpe.head()"
      ],
      "metadata": {
        "colab": {
          "base_uri": "https://localhost:8080/",
          "height": 206
        },
        "id": "X5yObLYpHHMQ",
        "outputId": "d93e0c9e-d6a3-4c1b-d40a-9322bd73fdd1"
      },
      "execution_count": null,
      "outputs": [
        {
          "output_type": "execute_result",
          "data": {
            "text/plain": [
              "   Linguagens  Ciências humanas  Ciências da natureza  Matemática     Redação  \\\n",
              "0  585.669300        686.512178            390.482473  452.281333  546.371706   \n",
              "1  359.384608        642.084134                   NaN  412.205207  741.825256   \n",
              "2  622.732384        495.510719            443.183580  669.683401  684.515750   \n",
              "3  350.164605        602.041588            413.979810  676.608952  671.237114   \n",
              "4  384.093657        489.249140            609.758123  520.426698  744.375048   \n",
              "\n",
              "     Sexo  Média Ponderada  \n",
              "0   Homem       515.020199  \n",
              "1  Mulher              NaN  \n",
              "2   Homem       623.192417  \n",
              "3   Homem       576.526064  \n",
              "4   Homem       543.765146  "
            ],
            "text/html": [
              "\n",
              "  <div id=\"df-198a72f1-7ba3-430d-9a2f-8af53e2b9274\" class=\"colab-df-container\">\n",
              "    <div>\n",
              "<style scoped>\n",
              "    .dataframe tbody tr th:only-of-type {\n",
              "        vertical-align: middle;\n",
              "    }\n",
              "\n",
              "    .dataframe tbody tr th {\n",
              "        vertical-align: top;\n",
              "    }\n",
              "\n",
              "    .dataframe thead th {\n",
              "        text-align: right;\n",
              "    }\n",
              "</style>\n",
              "<table border=\"1\" class=\"dataframe\">\n",
              "  <thead>\n",
              "    <tr style=\"text-align: right;\">\n",
              "      <th></th>\n",
              "      <th>Linguagens</th>\n",
              "      <th>Ciências humanas</th>\n",
              "      <th>Ciências da natureza</th>\n",
              "      <th>Matemática</th>\n",
              "      <th>Redação</th>\n",
              "      <th>Sexo</th>\n",
              "      <th>Média Ponderada</th>\n",
              "    </tr>\n",
              "  </thead>\n",
              "  <tbody>\n",
              "    <tr>\n",
              "      <th>0</th>\n",
              "      <td>585.669300</td>\n",
              "      <td>686.512178</td>\n",
              "      <td>390.482473</td>\n",
              "      <td>452.281333</td>\n",
              "      <td>546.371706</td>\n",
              "      <td>Homem</td>\n",
              "      <td>515.020199</td>\n",
              "    </tr>\n",
              "    <tr>\n",
              "      <th>1</th>\n",
              "      <td>359.384608</td>\n",
              "      <td>642.084134</td>\n",
              "      <td>NaN</td>\n",
              "      <td>412.205207</td>\n",
              "      <td>741.825256</td>\n",
              "      <td>Mulher</td>\n",
              "      <td>NaN</td>\n",
              "    </tr>\n",
              "    <tr>\n",
              "      <th>2</th>\n",
              "      <td>622.732384</td>\n",
              "      <td>495.510719</td>\n",
              "      <td>443.183580</td>\n",
              "      <td>669.683401</td>\n",
              "      <td>684.515750</td>\n",
              "      <td>Homem</td>\n",
              "      <td>623.192417</td>\n",
              "    </tr>\n",
              "    <tr>\n",
              "      <th>3</th>\n",
              "      <td>350.164605</td>\n",
              "      <td>602.041588</td>\n",
              "      <td>413.979810</td>\n",
              "      <td>676.608952</td>\n",
              "      <td>671.237114</td>\n",
              "      <td>Homem</td>\n",
              "      <td>576.526064</td>\n",
              "    </tr>\n",
              "    <tr>\n",
              "      <th>4</th>\n",
              "      <td>384.093657</td>\n",
              "      <td>489.249140</td>\n",
              "      <td>609.758123</td>\n",
              "      <td>520.426698</td>\n",
              "      <td>744.375048</td>\n",
              "      <td>Homem</td>\n",
              "      <td>543.765146</td>\n",
              "    </tr>\n",
              "  </tbody>\n",
              "</table>\n",
              "</div>\n",
              "    <div class=\"colab-df-buttons\">\n",
              "\n",
              "  <div class=\"colab-df-container\">\n",
              "    <button class=\"colab-df-convert\" onclick=\"convertToInteractive('df-198a72f1-7ba3-430d-9a2f-8af53e2b9274')\"\n",
              "            title=\"Convert this dataframe to an interactive table.\"\n",
              "            style=\"display:none;\">\n",
              "\n",
              "  <svg xmlns=\"http://www.w3.org/2000/svg\" height=\"24px\" viewBox=\"0 -960 960 960\">\n",
              "    <path d=\"M120-120v-720h720v720H120Zm60-500h600v-160H180v160Zm220 220h160v-160H400v160Zm0 220h160v-160H400v160ZM180-400h160v-160H180v160Zm440 0h160v-160H620v160ZM180-180h160v-160H180v160Zm440 0h160v-160H620v160Z\"/>\n",
              "  </svg>\n",
              "    </button>\n",
              "\n",
              "  <style>\n",
              "    .colab-df-container {\n",
              "      display:flex;\n",
              "      gap: 12px;\n",
              "    }\n",
              "\n",
              "    .colab-df-convert {\n",
              "      background-color: #E8F0FE;\n",
              "      border: none;\n",
              "      border-radius: 50%;\n",
              "      cursor: pointer;\n",
              "      display: none;\n",
              "      fill: #1967D2;\n",
              "      height: 32px;\n",
              "      padding: 0 0 0 0;\n",
              "      width: 32px;\n",
              "    }\n",
              "\n",
              "    .colab-df-convert:hover {\n",
              "      background-color: #E2EBFA;\n",
              "      box-shadow: 0px 1px 2px rgba(60, 64, 67, 0.3), 0px 1px 3px 1px rgba(60, 64, 67, 0.15);\n",
              "      fill: #174EA6;\n",
              "    }\n",
              "\n",
              "    .colab-df-buttons div {\n",
              "      margin-bottom: 4px;\n",
              "    }\n",
              "\n",
              "    [theme=dark] .colab-df-convert {\n",
              "      background-color: #3B4455;\n",
              "      fill: #D2E3FC;\n",
              "    }\n",
              "\n",
              "    [theme=dark] .colab-df-convert:hover {\n",
              "      background-color: #434B5C;\n",
              "      box-shadow: 0px 1px 3px 1px rgba(0, 0, 0, 0.15);\n",
              "      filter: drop-shadow(0px 1px 2px rgba(0, 0, 0, 0.3));\n",
              "      fill: #FFFFFF;\n",
              "    }\n",
              "  </style>\n",
              "\n",
              "    <script>\n",
              "      const buttonEl =\n",
              "        document.querySelector('#df-198a72f1-7ba3-430d-9a2f-8af53e2b9274 button.colab-df-convert');\n",
              "      buttonEl.style.display =\n",
              "        google.colab.kernel.accessAllowed ? 'block' : 'none';\n",
              "\n",
              "      async function convertToInteractive(key) {\n",
              "        const element = document.querySelector('#df-198a72f1-7ba3-430d-9a2f-8af53e2b9274');\n",
              "        const dataTable =\n",
              "          await google.colab.kernel.invokeFunction('convertToInteractive',\n",
              "                                                    [key], {});\n",
              "        if (!dataTable) return;\n",
              "\n",
              "        const docLinkHtml = 'Like what you see? Visit the ' +\n",
              "          '<a target=\"_blank\" href=https://colab.research.google.com/notebooks/data_table.ipynb>data table notebook</a>'\n",
              "          + ' to learn more about interactive tables.';\n",
              "        element.innerHTML = '';\n",
              "        dataTable['output_type'] = 'display_data';\n",
              "        await google.colab.output.renderOutput(dataTable, element);\n",
              "        const docLink = document.createElement('div');\n",
              "        docLink.innerHTML = docLinkHtml;\n",
              "        element.appendChild(docLink);\n",
              "      }\n",
              "    </script>\n",
              "  </div>\n",
              "\n",
              "\n",
              "<div id=\"df-de23a7bc-771b-45a6-8d6a-f5db676dd886\">\n",
              "  <button class=\"colab-df-quickchart\" onclick=\"quickchart('df-de23a7bc-771b-45a6-8d6a-f5db676dd886')\"\n",
              "            title=\"Suggest charts\"\n",
              "            style=\"display:none;\">\n",
              "\n",
              "<svg xmlns=\"http://www.w3.org/2000/svg\" height=\"24px\"viewBox=\"0 0 24 24\"\n",
              "     width=\"24px\">\n",
              "    <g>\n",
              "        <path d=\"M19 3H5c-1.1 0-2 .9-2 2v14c0 1.1.9 2 2 2h14c1.1 0 2-.9 2-2V5c0-1.1-.9-2-2-2zM9 17H7v-7h2v7zm4 0h-2V7h2v10zm4 0h-2v-4h2v4z\"/>\n",
              "    </g>\n",
              "</svg>\n",
              "  </button>\n",
              "\n",
              "<style>\n",
              "  .colab-df-quickchart {\n",
              "      --bg-color: #E8F0FE;\n",
              "      --fill-color: #1967D2;\n",
              "      --hover-bg-color: #E2EBFA;\n",
              "      --hover-fill-color: #174EA6;\n",
              "      --disabled-fill-color: #AAA;\n",
              "      --disabled-bg-color: #DDD;\n",
              "  }\n",
              "\n",
              "  [theme=dark] .colab-df-quickchart {\n",
              "      --bg-color: #3B4455;\n",
              "      --fill-color: #D2E3FC;\n",
              "      --hover-bg-color: #434B5C;\n",
              "      --hover-fill-color: #FFFFFF;\n",
              "      --disabled-bg-color: #3B4455;\n",
              "      --disabled-fill-color: #666;\n",
              "  }\n",
              "\n",
              "  .colab-df-quickchart {\n",
              "    background-color: var(--bg-color);\n",
              "    border: none;\n",
              "    border-radius: 50%;\n",
              "    cursor: pointer;\n",
              "    display: none;\n",
              "    fill: var(--fill-color);\n",
              "    height: 32px;\n",
              "    padding: 0;\n",
              "    width: 32px;\n",
              "  }\n",
              "\n",
              "  .colab-df-quickchart:hover {\n",
              "    background-color: var(--hover-bg-color);\n",
              "    box-shadow: 0 1px 2px rgba(60, 64, 67, 0.3), 0 1px 3px 1px rgba(60, 64, 67, 0.15);\n",
              "    fill: var(--button-hover-fill-color);\n",
              "  }\n",
              "\n",
              "  .colab-df-quickchart-complete:disabled,\n",
              "  .colab-df-quickchart-complete:disabled:hover {\n",
              "    background-color: var(--disabled-bg-color);\n",
              "    fill: var(--disabled-fill-color);\n",
              "    box-shadow: none;\n",
              "  }\n",
              "\n",
              "  .colab-df-spinner {\n",
              "    border: 2px solid var(--fill-color);\n",
              "    border-color: transparent;\n",
              "    border-bottom-color: var(--fill-color);\n",
              "    animation:\n",
              "      spin 1s steps(1) infinite;\n",
              "  }\n",
              "\n",
              "  @keyframes spin {\n",
              "    0% {\n",
              "      border-color: transparent;\n",
              "      border-bottom-color: var(--fill-color);\n",
              "      border-left-color: var(--fill-color);\n",
              "    }\n",
              "    20% {\n",
              "      border-color: transparent;\n",
              "      border-left-color: var(--fill-color);\n",
              "      border-top-color: var(--fill-color);\n",
              "    }\n",
              "    30% {\n",
              "      border-color: transparent;\n",
              "      border-left-color: var(--fill-color);\n",
              "      border-top-color: var(--fill-color);\n",
              "      border-right-color: var(--fill-color);\n",
              "    }\n",
              "    40% {\n",
              "      border-color: transparent;\n",
              "      border-right-color: var(--fill-color);\n",
              "      border-top-color: var(--fill-color);\n",
              "    }\n",
              "    60% {\n",
              "      border-color: transparent;\n",
              "      border-right-color: var(--fill-color);\n",
              "    }\n",
              "    80% {\n",
              "      border-color: transparent;\n",
              "      border-right-color: var(--fill-color);\n",
              "      border-bottom-color: var(--fill-color);\n",
              "    }\n",
              "    90% {\n",
              "      border-color: transparent;\n",
              "      border-bottom-color: var(--fill-color);\n",
              "    }\n",
              "  }\n",
              "</style>\n",
              "\n",
              "  <script>\n",
              "    async function quickchart(key) {\n",
              "      const quickchartButtonEl =\n",
              "        document.querySelector('#' + key + ' button');\n",
              "      quickchartButtonEl.disabled = true;  // To prevent multiple clicks.\n",
              "      quickchartButtonEl.classList.add('colab-df-spinner');\n",
              "      try {\n",
              "        const charts = await google.colab.kernel.invokeFunction(\n",
              "            'suggestCharts', [key], {});\n",
              "      } catch (error) {\n",
              "        console.error('Error during call to suggestCharts:', error);\n",
              "      }\n",
              "      quickchartButtonEl.classList.remove('colab-df-spinner');\n",
              "      quickchartButtonEl.classList.add('colab-df-quickchart-complete');\n",
              "    }\n",
              "    (() => {\n",
              "      let quickchartButtonEl =\n",
              "        document.querySelector('#df-de23a7bc-771b-45a6-8d6a-f5db676dd886 button');\n",
              "      quickchartButtonEl.style.display =\n",
              "        google.colab.kernel.accessAllowed ? 'block' : 'none';\n",
              "    })();\n",
              "  </script>\n",
              "</div>\n",
              "\n",
              "    </div>\n",
              "  </div>\n"
            ],
            "application/vnd.google.colaboratory.intrinsic+json": {
              "type": "dataframe",
              "variable_name": "df_ufpe",
              "summary": "{\n  \"name\": \"df_ufpe\",\n  \"rows\": 1000,\n  \"fields\": [\n    {\n      \"column\": \"Linguagens\",\n      \"properties\": {\n        \"dtype\": \"number\",\n        \"std\": 84.00931315971195,\n        \"min\": 287.0,\n        \"max\": 804.4563171927,\n        \"num_unique_values\": 896,\n        \"samples\": [\n          638.5729576994,\n          458.5772735297,\n          469.6368972844\n        ],\n        \"semantic_type\": \"\",\n        \"description\": \"\"\n      }\n    },\n    {\n      \"column\": \"Ci\\u00eancias humanas\",\n      \"properties\": {\n        \"dtype\": \"number\",\n        \"std\": 77.81151916399475,\n        \"min\": 289.9,\n        \"max\": 763.9196954613,\n        \"num_unique_values\": 935,\n        \"samples\": [\n          552.953806862,\n          648.4281845758,\n          519.0714634707\n        ],\n        \"semantic_type\": \"\",\n        \"description\": \"\"\n      }\n    },\n    {\n      \"column\": \"Ci\\u00eancias da natureza\",\n      \"properties\": {\n        \"dtype\": \"number\",\n        \"std\": 78.76040369093829,\n        \"min\": 314.4,\n        \"max\": 802.0045683513,\n        \"num_unique_values\": 821,\n        \"samples\": [\n          472.110329659,\n          468.0927320977,\n          391.1238460543\n        ],\n        \"semantic_type\": \"\",\n        \"description\": \"\"\n      }\n    },\n    {\n      \"column\": \"Matem\\u00e1tica\",\n      \"properties\": {\n        \"dtype\": \"number\",\n        \"std\": 86.64810003261275,\n        \"min\": 319.8,\n        \"max\": 807.8779018921,\n        \"num_unique_values\": 918,\n        \"samples\": [\n          577.6921115123,\n          562.8560894807,\n          464.1971411718\n        ],\n        \"semantic_type\": \"\",\n        \"description\": \"\"\n      }\n    },\n    {\n      \"column\": \"Reda\\u00e7\\u00e3o\",\n      \"properties\": {\n        \"dtype\": \"number\",\n        \"std\": 115.33997244479161,\n        \"min\": 270.8399648605,\n        \"max\": 1000.0,\n        \"num_unique_values\": 860,\n        \"samples\": [\n          482.1791420587,\n          687.1614107203,\n          572.6498716449\n        ],\n        \"semantic_type\": \"\",\n        \"description\": \"\"\n      }\n    },\n    {\n      \"column\": \"Sexo\",\n      \"properties\": {\n        \"dtype\": \"category\",\n        \"num_unique_values\": 3,\n        \"samples\": [\n          \"Homem\",\n          \"Mulher\",\n          \"N\\u00e3o idenficado\"\n        ],\n        \"semantic_type\": \"\",\n        \"description\": \"\"\n      }\n    },\n    {\n      \"column\": \"M\\u00e9dia Ponderada\",\n      \"properties\": {\n        \"dtype\": \"number\",\n        \"std\": 46.15043997068004,\n        \"min\": 421.07985157899003,\n        \"max\": 682.98773242715,\n        \"num_unique_values\": 548,\n        \"samples\": [\n          541.81308099395,\n          664.3843636027001,\n          484.28934758228996\n        ],\n        \"semantic_type\": \"\",\n        \"description\": \"\"\n      }\n    }\n  ]\n}"
            }
          },
          "metadata": {},
          "execution_count": 216
        }
      ]
    },
    {
      "cell_type": "code",
      "source": [
        "df_ufpe_500 = df_ufpe.nlargest(500, 'Média Ponderada') # Seleciona os 500 estudantes mais bem colocados segundo a média ponderada"
      ],
      "metadata": {
        "id": "FJZv6nnZIQsP"
      },
      "execution_count": null,
      "outputs": []
    },
    {
      "cell_type": "code",
      "source": [
        "media_curso = df_ufpe_500['Média Ponderada'].mean() # Média da média ponderada\n",
        "print('A MÉDIA das notas dos 500 estudantes mais bem colocados é:', media_curso.round(2))"
      ],
      "metadata": {
        "colab": {
          "base_uri": "https://localhost:8080/"
        },
        "id": "KaeduEfncUEp",
        "outputId": "1beb2a28-76cb-4453-e1d7-db84376cf861"
      },
      "execution_count": null,
      "outputs": [
        {
          "output_type": "stream",
          "name": "stdout",
          "text": [
            "A MÉDIA das notas dos 500 estudantes mais bem colocados é: 557.29\n"
          ]
        }
      ]
    },
    {
      "cell_type": "code",
      "source": [
        "desvio_padrao_curso = df_ufpe_500['Média Ponderada'].std() # Desvio padrão da média ponderada\n",
        "print('O DESVIO PADRÃO das notas dos 500 estudantes mais bem colocados é:', desvio_padrao_curso.round(2))"
      ],
      "metadata": {
        "colab": {
          "base_uri": "https://localhost:8080/"
        },
        "id": "OVL3I34DjMPm",
        "outputId": "5a5ecee2-357e-41e4-b114-c57c7dd91443"
      },
      "execution_count": null,
      "outputs": [
        {
          "output_type": "stream",
          "name": "stdout",
          "text": [
            "O DESVIO PADRÃO das notas dos 500 estudantes mais bem colocados é: 40.44\n"
          ]
        }
      ]
    },
    {
      "cell_type": "markdown",
      "source": [
        "4. Se todos esses estudantes aplicassem para ciência da computação e\n",
        "existem apenas 40 vagas, qual seria a `variância e média` da nota dos\n",
        "estudantes que entraram no curso de ciência da computação?\n"
      ],
      "metadata": {
        "id": "PybuKVVFgnb2"
      }
    },
    {
      "cell_type": "code",
      "source": [
        "notas = df_ufpe_500['Média Ponderada'].sort_values(ascending=False)\n",
        "\n",
        "admitidos = notas[:40] # Selecionando os 40 estudantes para o curso de ciência da computação\n",
        "\n",
        "media40 = admitidos.mean()\n",
        "print('A MÉDIA das notas dos 40 estudantes selecionados é:', media40.round(2))"
      ],
      "metadata": {
        "id": "_79lqO1Sgmfe",
        "colab": {
          "base_uri": "https://localhost:8080/"
        },
        "outputId": "47a6d590-a1f4-43d0-fe6f-9be3359241e6"
      },
      "execution_count": null,
      "outputs": [
        {
          "output_type": "stream",
          "name": "stdout",
          "text": [
            "A MÉDIA das notas dos 40 estudantes selecionados é: 636.68\n"
          ]
        }
      ]
    },
    {
      "cell_type": "code",
      "source": [
        "variancia40 = admitidos.var()\n",
        "print('A VARIÂNCIA das notas dos 40 estudantes selecionados é:', variancia40.round(2))"
      ],
      "metadata": {
        "colab": {
          "base_uri": "https://localhost:8080/"
        },
        "id": "Aot_rmy0ODoh",
        "outputId": "0dd01b74-dd73-4f90-8789-2e5a0d7e8d72"
      },
      "execution_count": null,
      "outputs": [
        {
          "output_type": "stream",
          "name": "stdout",
          "text": [
            "A VARIÂNCIA das notas dos 40 estudantes selecionados é: 295.77\n"
          ]
        }
      ]
    },
    {
      "cell_type": "markdown",
      "source": [
        "5. Qual o valor do teto do `terceiro quartil` para as disciplinas de\n",
        "matemática e linguagens?"
      ],
      "metadata": {
        "id": "6A7JkMKZgzFB"
      }
    },
    {
      "cell_type": "code",
      "source": [
        "q3_matematica = df['Matemática'].quantile(.75).round(2) # Calcula o terceiro quartil de matemática\n",
        "print('O valor do teto do terceiro quartil para MATEMÁTICA é:', q3_matematica)"
      ],
      "metadata": {
        "id": "Qk9EvYkzg5w9",
        "colab": {
          "base_uri": "https://localhost:8080/"
        },
        "outputId": "189cdc20-ba74-4ae3-f52c-c2f07e3a24f6"
      },
      "execution_count": null,
      "outputs": [
        {
          "output_type": "stream",
          "name": "stdout",
          "text": [
            "O valor do teto do terceiro quartil para MATEMÁTICA é: 592.91\n"
          ]
        }
      ]
    },
    {
      "cell_type": "code",
      "source": [
        "q3_linguagens = df['Linguagens'].quantile(.75).round(2)\n",
        "print('O valor do teto do terceiro quartil para LINGUAGENS é:', q3_linguagens)"
      ],
      "metadata": {
        "colab": {
          "base_uri": "https://localhost:8080/"
        },
        "id": "NkxjQ7bmWAR2",
        "outputId": "720d7a44-0802-4564-b90d-b61fecaa2982"
      },
      "execution_count": null,
      "outputs": [
        {
          "output_type": "stream",
          "name": "stdout",
          "text": [
            "O valor do teto do terceiro quartil para LINGUAGENS é: 571.64\n"
          ]
        }
      ]
    },
    {
      "cell_type": "markdown",
      "source": [
        "6. Faça o `histograma` de Redação e Linguagens, de 20 em 20 pontos.\n",
        "Podemos dizer que são histogramas simétricos, justifique e classifique\n",
        "se não assimétricas?"
      ],
      "metadata": {
        "id": "exto391AWex9"
      }
    },
    {
      "cell_type": "code",
      "source": [
        "sns.set_theme()\n",
        "\n",
        "novo_histograma = ['Redação', 'Linguagens'] # Definindo as disciplinas\n",
        "\n",
        "for column in novo_histograma: # construindo o histograma\n",
        "    plt.figure(figsize=(8,4))\n",
        "    sns.displot(data = df , x = column, kde= True)\n",
        "    plt.xlabel('nota')\n",
        "    plt.ylabel('frequência')\n",
        "    plt.title(\"Histograma - Disciplina: \"+column)"
      ],
      "metadata": {
        "colab": {
          "base_uri": "https://localhost:8080/",
          "height": 1000
        },
        "id": "zW31CKfAWgLR",
        "outputId": "d0d260f9-fa24-4f7c-f810-54c17b40282f"
      },
      "execution_count": null,
      "outputs": [
        {
          "output_type": "display_data",
          "data": {
            "text/plain": [
              "<Figure size 800x400 with 0 Axes>"
            ]
          },
          "metadata": {}
        },
        {
          "output_type": "display_data",
          "data": {
            "text/plain": [
              "<Figure size 500x500 with 1 Axes>"
            ],
            "image/png": "[encoded data removed]"
          },
          "metadata": {}
        },
        {
          "output_type": "display_data",
          "data": {
            "text/plain": [
              "<Figure size 800x400 with 0 Axes>"
            ]
          },
          "metadata": {}
        },
        {
          "output_type": "display_data",
          "data": {
            "text/plain": [
              "<Figure size 500x500 with 1 Axes>"
            ],
            "image/png": "[encoded data removed]"
          },
          "metadata": {}
        }
      ]
    },
    {
      "cell_type": "markdown",
      "source": [
        "Resposta da questão 6: Ambos os histogramas são simétricos, pois estão centrados."
      ],
      "metadata": {
        "id": "5PKBjVa9dM0c"
      }
    },
    {
      "cell_type": "markdown",
      "source": [
        "7. Agora coloque um `range` fixo de 0 até 1000, você ainda tem a mesma\n",
        "opinião quanto a simetria? `[plt.hist(dado, bins=_, range=[0, 1000])`"
      ],
      "metadata": {
        "id": "u86ilvwJgesi"
      }
    },
    {
      "cell_type": "code",
      "source": [
        "sns.set_theme()\n",
        "\n",
        "novo_histograma = ['Redação', 'Linguagens'] # Definindo as disciplinas\n",
        "\n",
        "for column in novo_histograma: # Construindo o histograma\n",
        "    plt.figure(figsize=(8,4))\n",
        "    sns.displot(df[column], bins = range(0, 1000), kde= True, color='green')\n",
        "    plt.xlabel('nota')\n",
        "    plt.ylabel('frequência')\n",
        "    plt.title(\"Histograma - Disciplina: \"+column)\n",
        "\n",
        "    plt.tight_layout()\n",
        "    plt.show()"
      ],
      "metadata": {
        "colab": {
          "base_uri": "https://localhost:8080/",
          "height": 1000
        },
        "id": "SM3sIUUbgrKV",
        "outputId": "e2c2bce7-f6df-4db4-a6e5-f9c156bb442a"
      },
      "execution_count": null,
      "outputs": [
        {
          "output_type": "display_data",
          "data": {
            "text/plain": [
              "<Figure size 800x400 with 0 Axes>"
            ]
          },
          "metadata": {}
        },
        {
          "output_type": "display_data",
          "data": {
            "text/plain": [
              "<Figure size 500x500 with 1 Axes>"
            ],
            "image/png": "[encoded data removed]"
          },
          "metadata": {}
        },
        {
          "output_type": "display_data",
          "data": {
            "text/plain": [
              "<Figure size 800x400 with 0 Axes>"
            ]
          },
          "metadata": {}
        },
        {
          "output_type": "display_data",
          "data": {
            "text/plain": [
              "<Figure size 500x500 with 1 Axes>"
            ],
            "image/png": "[encoded data removed]"
          },
          "metadata": {}
        }
      ]
    },
    {
      "cell_type": "markdown",
      "source": [
        "Acredito que os histogramas não se tornaram assimétricos após adicionar o range."
      ],
      "metadata": {
        "id": "zd4BpWtndox_"
      }
    },
    {
      "cell_type": "markdown",
      "source": [
        "8. Faça um `boxplot do quartil` de todas as disciplinas de ciências da\n",
        "natureza e redação. É possível enxergar `outliers`? Utilize o `método IQR.`"
      ],
      "metadata": {
        "id": "F4Yhth-DsqYu"
      }
    },
    {
      "cell_type": "code",
      "source": [
        "enem = df # Copiando o dataframe\n",
        "\n",
        "def metodo(enem, materia): # Uma função que está definindo o o primeiro e o terceiro quartil, iqr, lower e upper para cada disciplina\n",
        "  q1 = enem[materia].quantile(.25)\n",
        "  q3 = enem[materia].quantile(.75)\n",
        "  iqr = q3 - q1\n",
        "\n",
        "  lower = q1 - 1.5 * iqr\n",
        "  upper = q3 + 1.5 * iqr\n",
        "  outlier = []\n",
        "\n",
        "  # Fazendo o cálculo para descobrir quantos outliers cada disciplina tem\n",
        "  for i in enem[materia].values:\n",
        "    if i > upper or i < lower:\n",
        "      outlier.append(i)\n",
        "\n",
        "  print('Qtdade de outliers para a matéria {} são: {}'.format(materia, len(outlier)))\n",
        "\n",
        "metodo(enem, 'Ciências da natureza')\n",
        "metodo(enem, 'Redação')"
      ],
      "metadata": {
        "colab": {
          "base_uri": "https://localhost:8080/"
        },
        "id": "i7ahe5O23HRw",
        "outputId": "62e5dc3a-62f4-4cee-d080-d401fe777ef9"
      },
      "execution_count": null,
      "outputs": [
        {
          "output_type": "stream",
          "name": "stdout",
          "text": [
            "Qtdade de outliers para a matéria Ciências da natureza são: 3\n",
            "Qtdade de outliers para a matéria Redação são: 4\n"
          ]
        }
      ]
    },
    {
      "cell_type": "code",
      "source": [
        "# Boxplot de ciências da natureza\n",
        "\n",
        "plt.figure(figsize=(10, 6))\n",
        "\n",
        "plt.subplot(1, 2, 1)\n",
        "sns.boxplot(y='Ciências da natureza', data=enem, color='yellow')\n",
        "plt.title('Ciências da Natureza (com outliers)')\n",
        "\n",
        "plt.tight_layout()\n",
        "plt.show()"
      ],
      "metadata": {
        "colab": {
          "base_uri": "https://localhost:8080/",
          "height": 600
        },
        "id": "-4ZwOyWv5Laq",
        "outputId": "e5ef30d1-7209-40f2-90f0-9d65d4ac76c4"
      },
      "execution_count": null,
      "outputs": [
        {
          "output_type": "display_data",
          "data": {
            "text/plain": [
              "<Figure size 1000x600 with 1 Axes>"
            ],
            "image/png": "[encoded data removed]"
          },
          "metadata": {}
        }
      ]
    },
    {
      "cell_type": "code",
      "source": [
        "# Boxplot de Redação\n",
        "\n",
        "plt.figure(figsize=(10, 6))\n",
        "\n",
        "plt.subplot(1, 2, 2)\n",
        "sns.boxplot(y='Redação', data=enem, color='purple')\n",
        "plt.title('Redação (com outliers)')\n",
        "\n",
        "plt.tight_layout()\n",
        "plt.show()"
      ],
      "metadata": {
        "colab": {
          "base_uri": "https://localhost:8080/",
          "height": 601
        },
        "id": "S2NQyRlL7-3q",
        "outputId": "45b281e4-2be0-4060-ef27-f6197af87f54"
      },
      "execution_count": null,
      "outputs": [
        {
          "output_type": "display_data",
          "data": {
            "text/plain": [
              "<Figure size 1000x600 with 1 Axes>"
            ],
            "image/png": "[encoded data removed]"
          },
          "metadata": {}
        }
      ]
    },
    {
      "cell_type": "markdown",
      "source": [
        "9. Remova todos os `outliers` e verifique se eles são passíveis de alterar a `média` nacional significativamente? (considere significativamente um\n",
        "valor acima de 5%)"
      ],
      "metadata": {
        "id": "mDOyOiw98XD_"
      }
    },
    {
      "cell_type": "code",
      "source": [
        "# Função para descobrir e remover os outliers de cada matéria\n",
        "def remove_outliers(df, materia):\n",
        "    q1 = df[materia].quantile(.25)\n",
        "    q3 = df[materia].quantile(.75)\n",
        "    iqr = q3 - q1\n",
        "\n",
        "    lower = q1 - 1.5 * iqr\n",
        "    upper = q3 + 1.5 * iqr\n",
        "\n",
        "    df_cleaned = df[(df[materia] >= lower) & (df[materia] <= upper)]\n",
        "\n",
        "    return df_cleaned"
      ],
      "metadata": {
        "id": "VzoberHeAZ14"
      },
      "execution_count": null,
      "outputs": []
    },
    {
      "cell_type": "code",
      "source": [
        "# Função para calcular a média nacional de cada matéria antes e depois dos outliers\n",
        "def calcular_media_nacional(df, materia):\n",
        "    media_nacional_antes = df[materia].mean()\n",
        "\n",
        "    df_sem_outliers = remove_outliers(df, materia)\n",
        "    media_nacional_depois = df_sem_outliers[materia].mean()\n",
        "\n",
        "    return media_nacional_antes, media_nacional_depois"
      ],
      "metadata": {
        "id": "FqW0eMVBAjdP"
      },
      "execution_count": null,
      "outputs": []
    },
    {
      "cell_type": "code",
      "source": [
        "# Função para descobrir se existe uma mudança significativa no antes e depois\n",
        "def verificar_mudanca_significativa(media_antes, media_depois):\n",
        "    mudanca_percentual = ((media_depois - media_antes) / media_antes) * 100\n",
        "    if abs(mudanca_percentual) > 5:\n",
        "        return True\n",
        "    else:\n",
        "        return False"
      ],
      "metadata": {
        "id": "b5i8m4kWBOiX"
      },
      "execution_count": null,
      "outputs": []
    },
    {
      "cell_type": "code",
      "source": [
        "# Resultado final\n",
        "\n",
        "materias = ['Ciências da natureza', 'Redação', 'Matemática', 'Linguagens', 'Ciências humanas']\n",
        "\n",
        "for materia in materias:\n",
        "    media_antes, media_depois = calcular_media_nacional(enem, materia)\n",
        "    mudanca_significativa = verificar_mudanca_significativa(media_antes, media_depois)\n",
        "\n",
        "    print(f'{materia}')\n",
        "    print(f'Antes: {media_antes:.2f}')\n",
        "    print(f'Depois: {media_depois:.2f}')\n",
        "\n",
        "    if mudanca_significativa:\n",
        "        print(f'A média foi significativamente alterada.\\n')\n",
        "    else:\n",
        "        print(f'A média não foi significativamente alterada.\\n')\n"
      ],
      "metadata": {
        "colab": {
          "base_uri": "https://localhost:8080/"
        },
        "id": "JMt9ywoxAthE",
        "outputId": "29ed8d03-f8d3-43f3-c99f-d743be9bebc8"
      },
      "execution_count": null,
      "outputs": [
        {
          "output_type": "stream",
          "name": "stdout",
          "text": [
            "Ciências da natureza\n",
            "Antes: 499.32\n",
            "Depois: 498.40\n",
            "A média não foi significativamente alterada.\n",
            "\n",
            "Redação\n",
            "Antes: 637.78\n",
            "Depois: 637.79\n",
            "A média não foi significativamente alterada.\n",
            "\n",
            "Matemática\n",
            "Antes: 535.97\n",
            "Depois: 535.11\n",
            "A média não foi significativamente alterada.\n",
            "\n",
            "Linguagens\n",
            "Antes: 514.52\n",
            "Depois: 514.19\n",
            "A média não foi significativamente alterada.\n",
            "\n",
            "Ciências humanas\n",
            "Antes: 527.04\n",
            "Depois: 526.11\n",
            "A média não foi significativamente alterada.\n",
            "\n"
          ]
        }
      ]
    },
    {
      "cell_type": "markdown",
      "source": [
        "10. Considerando valores nulos, tente encontrar qual seria a melhor `medida\n",
        "de tendência` que pode substituir as notas nulas. `Média, moda ou\n",
        "mediana?` Substitua o valor por todos os três e diga qual delas altera\n",
        "menos a `média geral` e o `desvio padrão.`"
      ],
      "metadata": {
        "id": "LMbn7sISEGXn"
      }
    },
    {
      "cell_type": "code",
      "source": [
        "material = df[['Linguagens', 'Ciências humanas', 'Ciências da natureza', 'Matemática', 'Redação']] # Fazendo cópia do dataframe só com disciplinas selecionadas"
      ],
      "metadata": {
        "id": "d1CiTD7ONAW5"
      },
      "execution_count": null,
      "outputs": []
    },
    {
      "cell_type": "code",
      "source": [
        "# Função que substitui os valores nulos\n",
        "def substituir_valores_nulos(df, medida):\n",
        "    df_preenchido = df.fillna(medida)\n",
        "    return df_preenchido\n",
        "\n",
        "# Função que calcula a média geral e o desvio padrão\n",
        "def calcular_estatisticas(df):\n",
        "    media_geral = df.stack().mean()\n",
        "    desvio_padrao_geral = df.stack().std()\n",
        "    return media_geral, desvio_padrao_geral\n",
        "\n",
        "# Calcular estatísticas para o DataFrame original\n",
        "media_original, desvio_padrao_original = calcular_estatisticas(material)\n",
        "\n",
        "# Substituir valores nulos com média\n",
        "material_media = substituir_valores_nulos(material, material.mean())\n",
        "media_media, desvio_padrao_media = calcular_estatisticas(material_media)\n",
        "\n",
        "# Substituir valores nulos com moda\n",
        "material_moda = substituir_valores_nulos(material, material.mode().iloc[0])\n",
        "media_moda, desvio_padrao_moda = calcular_estatisticas(material_moda)\n",
        "\n",
        "# Substituir valores nulos com mediana\n",
        "material_mediana = substituir_valores_nulos(material, material.median())\n",
        "media_mediana, desvio_padrao_mediana = calcular_estatisticas(material_mediana)\n",
        "\n",
        "# Comparar os resultados\n",
        "print(\"Média original:\", media_original.round(2))\n",
        "print(\"Desvio padrão original:\", desvio_padrao_original.round(2), '\\n')\n",
        "\n",
        "print(\"Média após substituir com MÉDIA:\", media_media.round(2))\n",
        "print(\"Desvio padrão após substituir com MÉDIA:\", desvio_padrao_media.round(2), '\\n')\n",
        "\n",
        "print(\"Média após substituir com MODA:\", media_moda.round(2))\n",
        "print(\"Desvio padrão após substituir com MODA:\", desvio_padrao_moda.round(2), '\\n')\n",
        "\n",
        "print(\"Média após substituir com MEDIANA:\", media_mediana.round(2))\n",
        "print(\"Desvio padrão após substituir com MEDIANA:\", desvio_padrao_mediana.round(2))\n"
      ],
      "metadata": {
        "colab": {
          "base_uri": "https://localhost:8080/"
        },
        "id": "crKbvj33MQMd",
        "outputId": "2a9cb400-3d5a-44cf-bc4d-6f4c376f0b50"
      },
      "execution_count": null,
      "outputs": [
        {
          "output_type": "stream",
          "name": "stdout",
          "text": [
            "Média original: 542.67\n",
            "Desvio padrão original: 101.52 \n",
            "\n",
            "Média após substituir com MÉDIA: 542.93\n",
            "Desvio padrão após substituir com MÉDIA: 97.43 \n",
            "\n",
            "Média após substituir com MODA: 515.13\n",
            "Desvio padrão após substituir com MODA: 123.36 \n",
            "\n",
            "Média após substituir com MEDIANA: 542.83\n",
            "Desvio padrão após substituir com MEDIANA: 97.35\n"
          ]
        }
      ]
    },
    {
      "cell_type": "code",
      "source": [
        "# Cálculo para descobrir a diferença a média original e substituida + o desvio padrão original e substituido de cada tendência\n",
        "\n",
        "calculo_media_media = media_original - media_media\n",
        "calculo_desvio_media = desvio_padrao_original - desvio_padrao_media\n",
        "calculo_media_final = calculo_media_media + calculo_desvio_media\n",
        "\n",
        "calculo_media_moda = media_original - media_moda\n",
        "calculo_desvio_moda = desvio_padrao_original - desvio_padrao_moda\n",
        "calculo_moda_final = calculo_media_moda + calculo_desvio_moda\n",
        "\n",
        "calculo_media_mediana = media_original - media_mediana\n",
        "calculo_desvio_mediana = desvio_padrao_original - desvio_padrao_mediana\n",
        "calculo_mediana_final = calculo_media_mediana + calculo_desvio_mediana\n",
        "\n",
        "# Esse IF serve para descobrir se a MÉDIA, MODA OU MEDIANA que altera menos a média geral e o desvio padrão\n",
        "if calculo_media_final < calculo_moda_final and calculo_media_final < calculo_mediana_final:\n",
        "  vencedor = calculo_media_final\n",
        "  print('A MÉDIA altera menos a média geral e o desvio padrão')\n",
        "elif calculo_moda_final < calculo_media_final and calculo_moda_final < calculo_mediana_final:\n",
        "  vencedor = calculo_moda_final\n",
        "  print('A MODA altera menos a média geral e o desvio padrão')\n",
        "elif calculo_mediana_final < calculo_moda_final and calculo_mediana_final < calculo_media_final:\n",
        "  vencedor = calculo_mediana_final\n",
        "  print('A MEDIANA altera menos a média geral e o desvio padrão')"
      ],
      "metadata": {
        "colab": {
          "base_uri": "https://localhost:8080/"
        },
        "id": "STDPCq6zNNVz",
        "outputId": "84d4afc6-1465-41d6-f65f-2e6855f36218"
      },
      "execution_count": null,
      "outputs": [
        {
          "output_type": "stream",
          "name": "stdout",
          "text": [
            "A MÉDIA altera menos a média geral e o desvio padrão\n"
          ]
        }
      ]
    }
  ]
}